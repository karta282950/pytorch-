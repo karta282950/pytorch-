{
 "cells": [
  {
   "cell_type": "code",
   "execution_count": 2,
   "metadata": {},
   "outputs": [],
   "source": [
    "import tqdm\n",
    "import pandas as pd\n",
    "import numpy as np\n",
    "from sklearn.preprocessing import MinMaxScaler, StandardScaler\n",
    "import torch\n",
    "import torch.nn as nn \n",
    "from torch import optim\n",
    "#from torchsummary import summary\n",
    "import random"
   ]
  },
  {
   "cell_type": "code",
   "execution_count": 3,
   "metadata": {},
   "outputs": [],
   "source": [
    "def create_sequences(data, n_past):\n",
    "    X,Y = [],[]\n",
    "    L = len(data)\n",
    "    for i in range(L-(n_past+5)):\n",
    "        X.append(data[i:i+n_past])\n",
    "        Y.append(data[i+n_past:i+n_past+5][:,3])\n",
    "    \n",
    "    return torch.Tensor(np.array(X)), torch.Tensor(np.array(Y))"
   ]
  },
  {
   "cell_type": "code",
   "execution_count": 4,
   "metadata": {},
   "outputs": [],
   "source": [
    "df = pd.read_csv('data/2330.TW.csv')\n",
    "#print(df.shape)\n",
    "#print(df.head())\n",
    "def preprocess(data_trend, train_ratio, n_past):\n",
    "    \n",
    "    scaler = StandardScaler() \n",
    "    data_trend = scaler.fit_transform(data_trend)\n",
    "    \n",
    "    train_ind = int(len(data_trend)*train_ratio)\n",
    "    train_data = data_trend[:train_ind]\n",
    "    val_data = data_trend[train_ind:]\n",
    "\n",
    "    # convert our train data into a pytorch tensor\n",
    "    X_train, Y_train = create_sequences(train_data, n_past)\n",
    "    X_val, Y_val = create_sequences(val_data, n_past)\n",
    "\n",
    "    return X_train, Y_train, X_val, Y_val, scaler\n"
   ]
  },
  {
   "cell_type": "code",
   "execution_count": 5,
   "metadata": {},
   "outputs": [],
   "source": [
    "class WrappedDataLoader:\n",
    "    def __init__(self, dataloader, func):\n",
    "        self.dataloader = dataloader\n",
    "        self.func = func\n",
    "        \n",
    "    def __len__(self):\n",
    "        return len(self.dataloader)\n",
    "    \n",
    "    def __iter__(self):\n",
    "        iter_dataloader = iter(self.dataloader)\n",
    "        for batch in iter_dataloader:\n",
    "            yield self.func(*batch)\n",
    "            \n",
    "def transpose(x, y):\n",
    "    # x and y is [batch size, seq len, feature size]\n",
    "    # to make them work with default assumption of LSTM,\n",
    "    # here we transpose the first and second dimension\n",
    "    # return size = [seq len, batch size, feature size]\n",
    "    return x.transpose(0, 1), y.transpose(0, 1)"
   ]
  },
  {
   "cell_type": "code",
   "execution_count": 6,
   "metadata": {},
   "outputs": [
    {
     "name": "stdout",
     "output_type": "stream",
     "text": [
      "========== Dataset ==========\n",
      "X_train-> torch.Size([945, 20, 5])\n",
      "Y_train-> torch.Size([945, 5])\n",
      "X_val->   torch.Size([218, 20, 5])\n",
      "Y_val->   torch.Size([218, 5])\n"
     ]
    }
   ],
   "source": [
    "data = df[[c for c in df.columns if c not in ['Date','Adj Close']]].values\n",
    "X_train, Y_train, X_val, Y_val, scaler = preprocess(data, train_ratio=0.8, n_past=20)\n",
    "\n",
    "batch_size = 32\n",
    "train_set = torch.utils.data.TensorDataset(X_train, Y_train)\n",
    "train_loader = torch.utils.data.DataLoader(train_set, batch_size=batch_size, shuffle=False)\n",
    "train_loader = WrappedDataLoader(train_loader, transpose)\n",
    "\n",
    "val_set = torch.utils.data.TensorDataset(X_val, Y_val)\n",
    "val_loader = torch.utils.data.DataLoader(val_set, batch_size=batch_size, shuffle=False)\n",
    "val_loader = WrappedDataLoader(val_loader, transpose)\n",
    "\n",
    "print('='*10,'Dataset','='*10)\n",
    "print('X_train->', X_train.shape)\n",
    "print('Y_train->',Y_train.shape)\n",
    "print('X_val->  ',X_val.shape)\n",
    "print('Y_val->  ',Y_val.shape)\n"
   ]
  },
  {
   "cell_type": "code",
   "execution_count": 17,
   "metadata": {},
   "outputs": [
    {
     "name": "stdout",
     "output_type": "stream",
     "text": [
      "torch.Size([20, 32, 5])\n",
      "torch.Size([5, 32])\n"
     ]
    }
   ],
   "source": [
    "for inputs, labels in train_loader:\n",
    "    #print(inputs)\n",
    "    #print(labels)\n",
    "    print(inputs.shape)\n",
    "    print(labels.shape)\n",
    "    break"
   ]
  },
  {
   "cell_type": "code",
   "execution_count": 16,
   "metadata": {},
   "outputs": [
    {
     "data": {
      "text/plain": [
       "torch.Size([1, 32, 5])"
      ]
     },
     "execution_count": 16,
     "metadata": {},
     "output_type": "execute_result"
    }
   ],
   "source": [
    "labels.transpose(0, 1).unsqueeze(0).shape"
   ]
  },
  {
   "cell_type": "code",
   "execution_count": 28,
   "metadata": {},
   "outputs": [
    {
     "data": {
      "text/plain": [
       "Seq2Seq(\n",
       "  (encoder): Encoder(\n",
       "    (lstm): LSTM(5, 128, num_layers=3)\n",
       "  )\n",
       "  (decoder): Decoder(\n",
       "    (lstm): LSTM(5, 128, num_layers=3)\n",
       "    (linear): Linear(in_features=128, out_features=5, bias=True)\n",
       "  )\n",
       ")"
      ]
     },
     "execution_count": 28,
     "metadata": {},
     "output_type": "execute_result"
    }
   ],
   "source": [
    "INPUT_DIM = 5\n",
    "OUTPUT_DIM = 5\n",
    "ENC_EMB_DIM = 36\n",
    "DEC_EMB_DIM = 36\n",
    "HID_DIM = 128\n",
    "N_LAYERS = 3\n",
    "ENC_DROPOUT = 0.3\n",
    "DEC_DROPOUT = 0.3\n",
    "\n",
    "enc = Encoder(INPUT_DIM, ENC_EMB_DIM, HID_DIM, N_LAYERS, ENC_DROPOUT)\n",
    "dec = Decoder(OUTPUT_DIM, DEC_EMB_DIM, HID_DIM, N_LAYERS, DEC_DROPOUT)\n",
    "dev = torch.device(\"cuda:0\" if torch.cuda.is_available() else \"cpu\")\n",
    "\n",
    "model = Seq2Seq(enc, dec, dev).to(dev)\n",
    "model.load_state_dict(torch.load('/Users/yukaisun/Documents/Research/pytorch學習/saved_models/Seq2Seq/best_seq2seq.pt'))\n",
    "model.eval()"
   ]
  },
  {
   "cell_type": "code",
   "execution_count": 30,
   "metadata": {},
   "outputs": [
    {
     "name": "stdout",
     "output_type": "stream",
     "text": [
      "torch.Size([1, 32, 5])\n"
     ]
    }
   ],
   "source": [
    "for inputs, labels in val_loader:\n",
    "    y_pred = model(inputs, labels)\n",
    "    print(y_pred.shape)\n",
    "    break"
   ]
  },
  {
   "cell_type": "code",
   "execution_count": null,
   "metadata": {},
   "outputs": [],
   "source": [
    "y_pred"
   ]
  },
  {
   "cell_type": "code",
   "execution_count": 34,
   "metadata": {},
   "outputs": [
    {
     "data": {
      "text/plain": [
       "tensor([[-1.0281, -1.0209, -1.0112, -1.0014, -0.9927, -0.9859, -0.9852, -1.0036,\n",
       "         -1.0174, -1.0226, -1.0242, -1.0131, -1.0126, -1.0193, -1.0300, -1.0405,\n",
       "         -1.0505, -1.0583, -1.0703, -1.0823, -1.0932, -1.1018, -1.1103, -1.1132,\n",
       "         -1.1134, -1.1316, -1.1361, -1.1373, -1.1366, -1.1318, -1.1280, -1.1229]],\n",
       "       grad_fn=<SelectBackward0>)"
      ]
     },
     "execution_count": 34,
     "metadata": {},
     "output_type": "execute_result"
    }
   ],
   "source": [
    "y_pred[:, :, 3]"
   ]
  },
  {
   "cell_type": "code",
   "execution_count": 37,
   "metadata": {},
   "outputs": [
    {
     "data": {
      "text/plain": [
       "tensor([-1.0077, -1.0154, -1.0001, -1.0383, -0.9924, -0.9198, -0.9160, -0.9848,\n",
       "        -0.9618, -1.0192, -1.1148, -1.1568, -1.1377, -1.1607, -1.1683, -1.2142,\n",
       "        -1.2066, -1.2027, -1.2219, -1.1874, -1.1760, -1.2066, -1.2066, -1.1913,\n",
       "        -1.1760, -1.1568, -1.1454, -1.1760, -1.2066, -1.2333, -1.2295, -1.2219])"
      ]
     },
     "execution_count": 37,
     "metadata": {},
     "output_type": "execute_result"
    }
   ],
   "source": [
    "labels[3, :]"
   ]
  },
  {
   "cell_type": "code",
   "execution_count": 48,
   "metadata": {},
   "outputs": [
    {
     "data": {
      "text/plain": [
       "(1, 32)"
      ]
     },
     "execution_count": 48,
     "metadata": {},
     "output_type": "execute_result"
    }
   ],
   "source": [
    "array1.shape"
   ]
  },
  {
   "cell_type": "code",
   "execution_count": 49,
   "metadata": {},
   "outputs": [
    {
     "data": {
      "text/plain": [
       "Text(0, 0.5, 'Value')"
      ]
     },
     "execution_count": 49,
     "metadata": {},
     "output_type": "execute_result"
    },
    {
     "data": {
      "image/png": "[encoded data removed]",
      "text/plain": [
       "<Figure size 640x480 with 1 Axes>"
      ]
     },
     "metadata": {},
     "output_type": "display_data"
    }
   ],
   "source": [
    "array1 = y_pred[:, :, 3].detach().numpy().reshape(32)\n",
    "array2 = labels[3, :].detach().numpy()\n",
    "# 画图\n",
    "import matplotlib.pyplot as plt\n",
    "\n",
    "plt.plot(array1, label='Tensor 1')\n",
    "plt.plot(array2, label='Tensor 2')\n",
    "\n",
    "# 添加标签和图例\n",
    "plt.xlabel('Index')\n",
    "plt.ylabel('Value')\n",
    "# 显示图像"
   ]
  },
  {
   "cell_type": "code",
   "execution_count": 26,
   "metadata": {},
   "outputs": [],
   "source": [
    "class Encoder(nn.Module):\n",
    "    def __init__(self, input_size=5, embedding_size=36, hidden_size=128, n_layers=1, dropout=0.3):\n",
    "        super().__init__()\n",
    "        self.hidden_size = hidden_size\n",
    "        self.n_layers = n_layers\n",
    "        self.dropout = dropout\n",
    "        self.embedding_size = embedding_size\n",
    "\n",
    "        self.lstm = nn.LSTM(input_size, hidden_size, n_layers)\n",
    "        \n",
    "    def forward(self, x):\n",
    "        # x: input batch data, size: [input_seq_len, batch_size, feature_size]\n",
    "        _, (hidden, cell) = self.lstm(x)\n",
    "        return hidden, cell\n",
    "\n",
    "\n",
    "class Decoder(nn.Module):\n",
    "    def __init__(self, output_size=5, embedding_size=36, hidden_size=128, n_layers=1, dropout=0.3):\n",
    "        super().__init__()\n",
    "        self.output_size = output_size\n",
    "        self.hidden_size = hidden_size\n",
    "        self.n_layers = n_layers\n",
    "        self.dropout = dropout\n",
    "\n",
    "        self.lstm = nn.LSTM(output_size, hidden_size, n_layers)\n",
    "        self.linear = nn.Linear(hidden_size, output_size)\n",
    "\n",
    "    def forward(self, x, hidden, cell):\n",
    "        \"\"\"\n",
    "        x size = [batch_size, feature_size]\n",
    "        --> x only has two dimensions since the input is batch of last coordinate of observed trajectory\n",
    "        so the sequence length has been removed.\n",
    "        \"\"\"\n",
    "        # add sequence dimension to x, to allow use of nn.LSTM\n",
    "        x = x.unsqueeze(0)  # -->[1, batch_size, feature_size]\n",
    "        \n",
    "        output, (hidden, cell) = self.lstm(x, (hidden, cell))\n",
    "        prediction = self.linear(output.squeeze(0))\n",
    "\n",
    "        return prediction, hidden, cell    \n",
    "\n",
    "class Seq2Seq(nn.Module):\n",
    "    def __init__(self, encoder, decoder, device):\n",
    "        super().__init__()\n",
    "        self.encoder = encoder\n",
    "        self.decoder = decoder\n",
    "        self.device = device\n",
    "\n",
    "        assert encoder.hidden_size == decoder.hidden_size, \\\n",
    "            \"Hidden dimensions of encoder and decoder must be equal!\"\n",
    "        assert encoder.n_layers == decoder.n_layers, \\\n",
    "            \"Encoder and decoder must have equal number of layers!\"\n",
    "\n",
    "    def forward(self, x, y, teacher_forcing_ratio=0.5):\n",
    "        \"\"\"\n",
    "        x = [input_seq_len, batch_size, feature_size]\n",
    "        y = [target_seq_len, batch_size, feature_size]\n",
    "        \"\"\"\n",
    "        batch_size = x.shape[1]\n",
    "        y = y.transpose(0, 1).unsqueeze(0)\n",
    "        target_len = y.shape[0]\n",
    "        # tensor to store decoder outputs of each time step\n",
    "        outputs = torch.zeros(target_len, batch_size, self.decoder.output_size).to(self.device) \n",
    "        hidden, cell = self.encoder(x)\n",
    "        decoder_input = x[-1, :, :] # first input to decoder is last of x\n",
    "        \n",
    "        for i in range(target_len):\n",
    "            output, hidden, cell = self.decoder(decoder_input, hidden, cell)\n",
    "            # place predictions in a tensor holding predictions for each time step\n",
    "\n",
    "            outputs[i] = output\n",
    "            \n",
    "            teacher_forcing = random.random() < teacher_forcing_ratio\n",
    "            # output is the same shape as decorder input-->[batch_size, feature_size]\n",
    "            # so we use output directly as input or use true lable depending on teacher_forcing flag\n",
    "            decoder_input = y[i] if teacher_forcing else output #torch.squeeze(output,0)\n",
    "        \n",
    "        return outputs"
   ]
  },
  {
   "cell_type": "code",
   "execution_count": null,
   "metadata": {},
   "outputs": [],
   "source": []
  }
 ],
 "metadata": {
  "kernelspec": {
   "display_name": "tabpfn",
   "language": "python",
   "name": "python3"
  },
  "language_info": {
   "codemirror_mode": {
    "name": "ipython",
    "version": 3
   },
   "file_extension": ".py",
   "mimetype": "text/x-python",
   "name": "python",
   "nbconvert_exporter": "python",
   "pygments_lexer": "ipython3",
   "version": "3.9.16"
  }
 },
 "nbformat": 4,
 "nbformat_minor": 2
}
